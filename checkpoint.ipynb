{
 "cells": [
  {
   "cell_type": "code",
   "execution_count": 1,
   "metadata": {
    "collapsed": true,
    "deletable": true,
    "editable": true
   },
   "outputs": [],
   "source": [
    "%matplotlib inline\n",
    "\n",
    "from matplotlib import pyplot as plt\n",
    "\n",
    "import json\n",
    "import matplotlib\n",
    "import numpy as np\n",
    "import pandas as pd\n",
    "\n",
    "matplotlib.style.use('ggplot')"
   ]
  },
  {
   "cell_type": "markdown",
   "metadata": {
    "deletable": true,
    "editable": true
   },
   "source": [
    "## Getting Song Chart\n",
    "\n",
    "- We get the songs chart from https://spotifycharts.com/regional\n",
    "- Contains 3 regions\n",
    "    - US\n",
    "    - UK\n",
    "    - JP"
   ]
  },
  {
   "cell_type": "markdown",
   "metadata": {
    "deletable": true,
    "editable": true
   },
   "source": [
    "### Example of csv file that we get from spotify "
   ]
  },
  {
   "cell_type": "code",
   "execution_count": 2,
   "metadata": {
    "collapsed": false,
    "deletable": true,
    "editable": true
   },
   "outputs": [
    {
     "data": {
      "text/html": [
       "<div>\n",
       "<table border=\"1\" class=\"dataframe\">\n",
       "  <thead>\n",
       "    <tr style=\"text-align: right;\">\n",
       "      <th></th>\n",
       "      <th>Position</th>\n",
       "      <th>Track Name</th>\n",
       "      <th>Artist</th>\n",
       "      <th>Streams</th>\n",
       "      <th>URL</th>\n",
       "    </tr>\n",
       "  </thead>\n",
       "  <tbody>\n",
       "    <tr>\n",
       "      <th>0</th>\n",
       "      <td>1</td>\n",
       "      <td>Shape of You</td>\n",
       "      <td>Ed Sheeran</td>\n",
       "      <td>1551040</td>\n",
       "      <td>https://open.spotify.com/track/7qiZfU4dY1lWllz...</td>\n",
       "    </tr>\n",
       "    <tr>\n",
       "      <th>1</th>\n",
       "      <td>2</td>\n",
       "      <td>Mask Off</td>\n",
       "      <td>Future</td>\n",
       "      <td>1360522</td>\n",
       "      <td>https://open.spotify.com/track/3rOSwuTsUlJp0Pu...</td>\n",
       "    </tr>\n",
       "    <tr>\n",
       "      <th>2</th>\n",
       "      <td>3</td>\n",
       "      <td>iSpy (feat. Lil Yachty)</td>\n",
       "      <td>Kyle</td>\n",
       "      <td>1213427</td>\n",
       "      <td>https://open.spotify.com/track/2EEeOnHehOozLq4...</td>\n",
       "    </tr>\n",
       "    <tr>\n",
       "      <th>3</th>\n",
       "      <td>4</td>\n",
       "      <td>That's What I Like</td>\n",
       "      <td>Bruno Mars</td>\n",
       "      <td>1154088</td>\n",
       "      <td>https://open.spotify.com/track/0KKkJNfGyhkQ5aF...</td>\n",
       "    </tr>\n",
       "    <tr>\n",
       "      <th>4</th>\n",
       "      <td>5</td>\n",
       "      <td>Tunnel Vision</td>\n",
       "      <td>Kodak Black</td>\n",
       "      <td>1059848</td>\n",
       "      <td>https://open.spotify.com/track/2BoS7pU92MQtynh...</td>\n",
       "    </tr>\n",
       "  </tbody>\n",
       "</table>\n",
       "</div>"
      ],
      "text/plain": [
       "   Position               Track Name       Artist  Streams  \\\n",
       "0         1             Shape of You   Ed Sheeran  1551040   \n",
       "1         2                 Mask Off       Future  1360522   \n",
       "2         3  iSpy (feat. Lil Yachty)         Kyle  1213427   \n",
       "3         4       That's What I Like   Bruno Mars  1154088   \n",
       "4         5            Tunnel Vision  Kodak Black  1059848   \n",
       "\n",
       "                                                 URL  \n",
       "0  https://open.spotify.com/track/7qiZfU4dY1lWllz...  \n",
       "1  https://open.spotify.com/track/3rOSwuTsUlJp0Pu...  \n",
       "2  https://open.spotify.com/track/2EEeOnHehOozLq4...  \n",
       "3  https://open.spotify.com/track/0KKkJNfGyhkQ5aF...  \n",
       "4  https://open.spotify.com/track/2BoS7pU92MQtynh...  "
      ]
     },
     "execution_count": 2,
     "metadata": {},
     "output_type": "execute_result"
    }
   ],
   "source": [
    "example_chart = pd.read_csv('charts/regional-us-daily-latest.csv')\n",
    "example_chart.head()"
   ]
  },
  {
   "cell_type": "code",
   "execution_count": null,
   "metadata": {
    "collapsed": true,
    "deletable": true,
    "editable": true
   },
   "outputs": [],
   "source": []
  },
  {
   "cell_type": "markdown",
   "metadata": {
    "deletable": true,
    "editable": true
   },
   "source": [
    "## Getting Audio Files\n",
    "\n",
    "- **Spotify** provide **API**\n",
    "    - https://api.spotify.com/v1/tracks/{track_id}\n",
    "\n",
    "- Example\n",
    "    - https://api.spotify.com/v1/tracks/7qiZfU4dY1lWllzX7mPBI3\n",
    "\n",
    "- However, there are a few tracks that **Spotify** does not provide `preview_url`\n",
    "    - **Bossy** took care of that\n",
    "\n",
    "- We downloaded 100 preview tracks for each region\n",
    "    - Total 300 preview tracks"
   ]
  },
  {
   "cell_type": "code",
   "execution_count": null,
   "metadata": {
    "collapsed": true,
    "deletable": true,
    "editable": true
   },
   "outputs": [],
   "source": []
  },
  {
   "cell_type": "markdown",
   "metadata": {
    "deletable": true,
    "editable": true
   },
   "source": [
    "## Exploring Features\n",
    "\n",
    "- Library that we use\n",
    "    - [aubio](https://github.com/aubio/aubio)\n",
    "    - [librosa](https://github.com/librosa/librosa)\n",
    "\n",
    "- Finding features\n",
    "    - **bpm** (beat per minute)\n",
    "    - **duration**\n",
    "    - **Spectral Features**: Help indicate the tone of the song\n",
    "        - **spectral centroid**: Measure of the brightness of a sound\n",
    "        - **zero crossing rate**: Times the untransformed wave goes from positive to negative\n",
    "        - **rolloff**: Measure of spectral shape\n",
    "\n",
    "Spectral Features' content taken from: http://michael.hahsler.net/SMU/EMIS8331/S2012/tutorials/Music_Mining_slides.pdf"
   ]
  },
  {
   "cell_type": "code",
   "execution_count": 3,
   "metadata": {
    "collapsed": true,
    "deletable": true,
    "editable": true
   },
   "outputs": [],
   "source": [
    "def read_from_json(file_name):\n",
    "    with open(file_name, 'r') as f:\n",
    "        return json.load(f)"
   ]
  },
  {
   "cell_type": "code",
   "execution_count": 4,
   "metadata": {
    "collapsed": true,
    "deletable": true,
    "editable": true
   },
   "outputs": [],
   "source": [
    "data = read_from_json('data/data.json')"
   ]
  },
  {
   "cell_type": "code",
   "execution_count": 5,
   "metadata": {
    "collapsed": true,
    "deletable": true,
    "editable": true
   },
   "outputs": [],
   "source": [
    "df = pd.DataFrame(data)"
   ]
  },
  {
   "cell_type": "code",
   "execution_count": 6,
   "metadata": {
    "collapsed": false,
    "deletable": true,
    "editable": true
   },
   "outputs": [
    {
     "data": {
      "text/html": [
       "<div>\n",
       "<table border=\"1\" class=\"dataframe\">\n",
       "  <thead>\n",
       "    <tr style=\"text-align: right;\">\n",
       "      <th></th>\n",
       "      <th>artist</th>\n",
       "      <th>bpm</th>\n",
       "      <th>centroid</th>\n",
       "      <th>duration_ms</th>\n",
       "      <th>position</th>\n",
       "      <th>region</th>\n",
       "      <th>rolloff</th>\n",
       "      <th>track_name</th>\n",
       "      <th>zero_crossing_rate</th>\n",
       "    </tr>\n",
       "  </thead>\n",
       "  <tbody>\n",
       "    <tr>\n",
       "      <th>0</th>\n",
       "      <td>Ed Sheeran</td>\n",
       "      <td>97.469267</td>\n",
       "      <td>[[1244.4210913718196, 1325.372003168119, 1291....</td>\n",
       "      <td>233712</td>\n",
       "      <td>1</td>\n",
       "      <td>JP</td>\n",
       "      <td>[[2767.0166015625, 2896.2158203125, 2767.01660...</td>\n",
       "      <td>Shape of You</td>\n",
       "      <td>[[0.02099609375, 0.03515625, 0.0458984375, 0.0...</td>\n",
       "    </tr>\n",
       "    <tr>\n",
       "      <th>1</th>\n",
       "      <td>The Chainsmokers</td>\n",
       "      <td>104.140420</td>\n",
       "      <td>[[3057.8363369199615, 3068.8002280368096, 2870...</td>\n",
       "      <td>247626</td>\n",
       "      <td>2</td>\n",
       "      <td>JP</td>\n",
       "      <td>[[6987.5244140625, 7170.556640625, 6890.625, 6...</td>\n",
       "      <td>Something Just Like This</td>\n",
       "      <td>[[0.0703125, 0.09619140625, 0.1123046875, 0.08...</td>\n",
       "    </tr>\n",
       "    <tr>\n",
       "      <th>2</th>\n",
       "      <td>Zedd</td>\n",
       "      <td>103.399665</td>\n",
       "      <td>[[2143.9807171529246, 2273.718883839052, 2581....</td>\n",
       "      <td>210090</td>\n",
       "      <td>3</td>\n",
       "      <td>JP</td>\n",
       "      <td>[[5017.236328125, 5232.568359375, 5760.1318359...</td>\n",
       "      <td>Stay (with Alessia Cara)</td>\n",
       "      <td>[[0.03515625, 0.06689453125, 0.0986328125, 0.1...</td>\n",
       "    </tr>\n",
       "    <tr>\n",
       "      <th>3</th>\n",
       "      <td>Kygo</td>\n",
       "      <td>101.354126</td>\n",
       "      <td>[[1057.7017240469452, 1178.669214165471, 1339....</td>\n",
       "      <td>220780</td>\n",
       "      <td>4</td>\n",
       "      <td>JP</td>\n",
       "      <td>[[1378.125, 2465.5517578125, 3046.9482421875, ...</td>\n",
       "      <td>It Ain't Me (with Selena Gomez)</td>\n",
       "      <td>[[0.0048828125, 0.0087890625, 0.01171875, 0.01...</td>\n",
       "    </tr>\n",
       "    <tr>\n",
       "      <th>4</th>\n",
       "      <td>Ed Sheeran</td>\n",
       "      <td>135.692324</td>\n",
       "      <td>[[1914.1415443185454, 2072.774526948462, 2557....</td>\n",
       "      <td>170826</td>\n",
       "      <td>5</td>\n",
       "      <td>JP</td>\n",
       "      <td>[[3768.310546875, 3983.642578125, 5609.3994140...</td>\n",
       "      <td>Galway Girl</td>\n",
       "      <td>[[0.04248046875, 0.076171875, 0.1064453125, 0....</td>\n",
       "    </tr>\n",
       "  </tbody>\n",
       "</table>\n",
       "</div>"
      ],
      "text/plain": [
       "             artist         bpm  \\\n",
       "0        Ed Sheeran   97.469267   \n",
       "1  The Chainsmokers  104.140420   \n",
       "2              Zedd  103.399665   \n",
       "3              Kygo  101.354126   \n",
       "4        Ed Sheeran  135.692324   \n",
       "\n",
       "                                            centroid  duration_ms  position  \\\n",
       "0  [[1244.4210913718196, 1325.372003168119, 1291....       233712         1   \n",
       "1  [[3057.8363369199615, 3068.8002280368096, 2870...       247626         2   \n",
       "2  [[2143.9807171529246, 2273.718883839052, 2581....       210090         3   \n",
       "3  [[1057.7017240469452, 1178.669214165471, 1339....       220780         4   \n",
       "4  [[1914.1415443185454, 2072.774526948462, 2557....       170826         5   \n",
       "\n",
       "  region                                            rolloff  \\\n",
       "0     JP  [[2767.0166015625, 2896.2158203125, 2767.01660...   \n",
       "1     JP  [[6987.5244140625, 7170.556640625, 6890.625, 6...   \n",
       "2     JP  [[5017.236328125, 5232.568359375, 5760.1318359...   \n",
       "3     JP  [[1378.125, 2465.5517578125, 3046.9482421875, ...   \n",
       "4     JP  [[3768.310546875, 3983.642578125, 5609.3994140...   \n",
       "\n",
       "                        track_name  \\\n",
       "0                     Shape of You   \n",
       "1         Something Just Like This   \n",
       "2         Stay (with Alessia Cara)   \n",
       "3  It Ain't Me (with Selena Gomez)   \n",
       "4                      Galway Girl   \n",
       "\n",
       "                                  zero_crossing_rate  \n",
       "0  [[0.02099609375, 0.03515625, 0.0458984375, 0.0...  \n",
       "1  [[0.0703125, 0.09619140625, 0.1123046875, 0.08...  \n",
       "2  [[0.03515625, 0.06689453125, 0.0986328125, 0.1...  \n",
       "3  [[0.0048828125, 0.0087890625, 0.01171875, 0.01...  \n",
       "4  [[0.04248046875, 0.076171875, 0.1064453125, 0....  "
      ]
     },
     "execution_count": 6,
     "metadata": {},
     "output_type": "execute_result"
    }
   ],
   "source": [
    "df.head()"
   ]
  },
  {
   "cell_type": "code",
   "execution_count": null,
   "metadata": {
    "collapsed": false,
    "deletable": true,
    "editable": true
   },
   "outputs": [],
   "source": []
  }
 ],
 "metadata": {
  "kernelspec": {
   "display_name": "Python 3",
   "language": "python",
   "name": "python3"
  },
  "language_info": {
   "codemirror_mode": {
    "name": "ipython",
    "version": 3
   },
   "file_extension": ".py",
   "mimetype": "text/x-python",
   "name": "python",
   "nbconvert_exporter": "python",
   "pygments_lexer": "ipython3",
   "version": "3.5.2"
  }
 },
 "nbformat": 4,
 "nbformat_minor": 2
}
